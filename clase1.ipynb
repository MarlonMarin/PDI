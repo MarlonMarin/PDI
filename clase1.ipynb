{
  "nbformat": 4,
  "nbformat_minor": 0,
  "metadata": {
    "colab": {
      "name": "clase1.ipynb",
      "provenance": [],
      "toc_visible": true,
      "authorship_tag": "ABX9TyPSr0uiZ6FXT3qJZ9gFKGWG",
      "include_colab_link": true
    },
    "kernelspec": {
      "name": "python3",
      "display_name": "Python 3"
    },
    "accelerator": "GPU"
  },
  "cells": [
    {
      "cell_type": "markdown",
      "metadata": {
        "id": "view-in-github",
        "colab_type": "text"
      },
      "source": [
        "<a href=\"https://colab.research.google.com/github/MarlonMarin/PDI/blob/master/clase1.ipynb\" target=\"_parent\"><img src=\"https://colab.research.google.com/assets/colab-badge.svg\" alt=\"Open In Colab\"/></a>"
      ]
    },
    {
      "cell_type": "markdown",
      "metadata": {
        "id": "kNtMSUMAtI-P",
        "colab_type": "text"
      },
      "source": [
        "# dar acceso al drive\n",
        "\n",
        "importar librerias Con FROM "
      ]
    },
    {
      "cell_type": "code",
      "metadata": {
        "id": "MPFuWDk8s72P",
        "colab_type": "code",
        "colab": {}
      },
      "source": [
        "from google.colab import drive\n",
        "drive.mount('/content/drive')"
      ],
      "execution_count": 0,
      "outputs": []
    },
    {
      "cell_type": "markdown",
      "metadata": {
        "id": "lwGXJlaJwpfh",
        "colab_type": "text"
      },
      "source": [
        "### Importar librerias\n",
        "\n",
        "import numpy as np que es para optimizar las cosas como los arreglos\n",
        "matplotlib libreria par ahacer graficos \n",
        "cv2 es para computer vision para pyton"
      ]
    },
    {
      "cell_type": "code",
      "metadata": {
        "id": "1vg0C-PBtItH",
        "colab_type": "code",
        "colab": {}
      },
      "source": [
        "import numpy as np\n",
        "import matplotlib.pyplot as plt\n",
        "import cv2\n",
        "from google.colab.patches import cv2_imshow"
      ],
      "execution_count": 0,
      "outputs": []
    },
    {
      "cell_type": "markdown",
      "metadata": {
        "id": "fLMv1uGKyTzQ",
        "colab_type": "text"
      },
      "source": [
        "leer y mostrar imagen\n"
      ]
    },
    {
      "cell_type": "code",
      "metadata": {
        "id": "Qjfv1keKyT8w",
        "colab_type": "code",
        "colab": {}
      },
      "source": [
        "imagen = cv2.imread('/content/drive/My Drive/11-Once/PDI/fotos/foto1.jpg', cv2.IMREAD_UNCHANGED)\n",
        "cv2_imshow(imagen)\n"
      ],
      "execution_count": 0,
      "outputs": []
    },
    {
      "cell_type": "markdown",
      "metadata": {
        "id": "yqIk8DzT1lY8",
        "colab_type": "text"
      },
      "source": [
        "# Rutas y Folders"
      ]
    },
    {
      "cell_type": "code",
      "metadata": {
        "id": "pNMeHncy1pji",
        "colab_type": "code",
        "outputId": "3a62e0a9-7806-4ef5-c883-097533d3de84",
        "colab": {
          "base_uri": "https://localhost:8080/",
          "height": 86
        }
      },
      "source": [
        "!pwd\n",
        "!ls\n",
        "#%cd ../\n",
        "%cd /content/drive/My Drive/11-Once/PDI/fotos\n",
        "!pwd"
      ],
      "execution_count": 12,
      "outputs": [
        {
          "output_type": "stream",
          "text": [
            "/content\n",
            "drive  sample_data\n",
            "/content/drive/My Drive/11-Once/PDI/fotos\n",
            "/content/drive/My Drive/11-Once/PDI/fotos\n"
          ],
          "name": "stdout"
        }
      ]
    },
    {
      "cell_type": "markdown",
      "metadata": {
        "id": "w8bBqFsn2RAL",
        "colab_type": "text"
      },
      "source": [
        "# Cambiar El tamaño"
      ]
    },
    {
      "cell_type": "code",
      "metadata": {
        "id": "oaYdGd2i22hc",
        "colab_type": "code",
        "outputId": "581f81ac-f5f6-4a95-8754-1101a85d733c",
        "colab": {
          "base_uri": "https://localhost:8080/",
          "height": 202
        }
      },
      "source": [
        "imagen = cv2.imread('foto1.jpg',cv2.IMREAD_UNCHANGED)\n",
        "imagen =cv2.resize(imagen,(int(300),int(450)))\n",
        "cv2_imshow(imagen)"
      ],
      "execution_count": 0,
      "outputs": [
        {
          "output_type": "error",
          "ename": "error",
          "evalue": "ignored",
          "traceback": [
            "\u001b[0;31m---------------------------------------------------------------------------\u001b[0m",
            "\u001b[0;31merror\u001b[0m                                     Traceback (most recent call last)",
            "\u001b[0;32m<ipython-input-9-825cf5a2610c>\u001b[0m in \u001b[0;36m<module>\u001b[0;34m()\u001b[0m\n\u001b[1;32m      1\u001b[0m \u001b[0mimagen\u001b[0m \u001b[0;34m=\u001b[0m \u001b[0mcv2\u001b[0m\u001b[0;34m.\u001b[0m\u001b[0mimread\u001b[0m\u001b[0;34m(\u001b[0m\u001b[0;34m'foto1.jpg'\u001b[0m\u001b[0;34m,\u001b[0m\u001b[0mcv2\u001b[0m\u001b[0;34m.\u001b[0m\u001b[0mIMREAD_UNCHANGED\u001b[0m\u001b[0;34m)\u001b[0m\u001b[0;34m\u001b[0m\u001b[0;34m\u001b[0m\u001b[0m\n\u001b[0;32m----> 2\u001b[0;31m \u001b[0mimagen\u001b[0m \u001b[0;34m=\u001b[0m\u001b[0mcv2\u001b[0m\u001b[0;34m.\u001b[0m\u001b[0mresize\u001b[0m\u001b[0;34m(\u001b[0m\u001b[0mimagen\u001b[0m\u001b[0;34m,\u001b[0m\u001b[0;34m(\u001b[0m\u001b[0mint\u001b[0m\u001b[0;34m(\u001b[0m\u001b[0;36m300\u001b[0m\u001b[0;34m)\u001b[0m\u001b[0;34m,\u001b[0m\u001b[0mint\u001b[0m\u001b[0;34m(\u001b[0m\u001b[0;36m450\u001b[0m\u001b[0;34m)\u001b[0m\u001b[0;34m)\u001b[0m\u001b[0;34m)\u001b[0m\u001b[0;34m\u001b[0m\u001b[0;34m\u001b[0m\u001b[0m\n\u001b[0m\u001b[1;32m      3\u001b[0m \u001b[0mcv2_imshow\u001b[0m\u001b[0;34m(\u001b[0m\u001b[0mimagen\u001b[0m\u001b[0;34m)\u001b[0m\u001b[0;34m\u001b[0m\u001b[0;34m\u001b[0m\u001b[0m\n",
            "\u001b[0;31merror\u001b[0m: OpenCV(4.1.2) /io/opencv/modules/imgproc/src/resize.cpp:3720: error: (-215:Assertion failed) !ssize.empty() in function 'resize'\n"
          ]
        }
      ]
    },
    {
      "cell_type": "markdown",
      "metadata": {
        "id": "xdvGO93BmmCQ",
        "colab_type": "text"
      },
      "source": [
        "\n",
        "# Clase 2\n",
        "\n",
        "vidion por computadora\n",
        "\n",
        "Transformar las imagenes para poder calcular los datos, sin embargo son calculos inferrentes y no exactos\n",
        "\n",
        "\n",
        "# colab "
      ]
    },
    {
      "cell_type": "markdown",
      "metadata": {
        "id": "zMAEHHoZvtUu",
        "colab_type": "text"
      },
      "source": [
        "importar \n",
        "open CV\n",
        "libreria máás usada para vision por computadora 2D\n",
        "\n",
        "Tensorflow\n",
        "libreria de google para redes neuronales (google)\n",
        "\n",
        "Torch\n",
        "libreria para creación de redes neuronales (facebook)"
      ]
    },
    {
      "cell_type": "code",
      "metadata": {
        "id": "kVd9WDsnmmT6",
        "colab_type": "code",
        "colab": {}
      },
      "source": [
        "import cv2\n",
        "import tensorflow\n",
        "import torch\n",
        "import numpy as np"
      ],
      "execution_count": 0,
      "outputs": []
    },
    {
      "cell_type": "markdown",
      "metadata": {
        "id": "f8_uIurLwbwy",
        "colab_type": "text"
      },
      "source": [
        "Lenguaje no tipado"
      ]
    },
    {
      "cell_type": "code",
      "metadata": {
        "id": "3Bup3-lywXIK",
        "colab_type": "code",
        "outputId": "e62441bc-0fc3-4109-c2b5-f34d69ccb556",
        "colab": {
          "base_uri": "https://localhost:8080/",
          "height": 156
        }
      },
      "source": [
        "x=0\n",
        "print(\"sepuede imprimir con print\\nentero x = \",x)\n",
        "y=0.0\n",
        "print(\"\\nfloat\\n y = \",y)\n",
        "z=\"\"\n",
        "print(\"\\nfloat\\n z = \",z)"
      ],
      "execution_count": 0,
      "outputs": [
        {
          "output_type": "stream",
          "text": [
            "sepuede imprimir con print\n",
            "entero x =  0\n",
            "\n",
            "float\n",
            " y =  0.0\n",
            "\n",
            "float\n",
            " z =  \n"
          ],
          "name": "stdout"
        }
      ]
    },
    {
      "cell_type": "markdown",
      "metadata": {
        "id": "ESb4iRMXyxzQ",
        "colab_type": "text"
      },
      "source": [
        "Vectores y listas"
      ]
    },
    {
      "cell_type": "code",
      "metadata": {
        "id": "_GdXXSbCyxoq",
        "colab_type": "code",
        "outputId": "b015cdc2-8806-4356-cb4f-239fd106fba3",
        "colab": {
          "base_uri": "https://localhost:8080/",
          "height": 86
        }
      },
      "source": [
        "lista =[1,2,3,4,5,6,7]\n",
        "print(lista)\n",
        "\n",
        "print(lista[3])\n",
        "print(lista[-1])\n",
        "\n",
        "lista[4]=10\n",
        "print(lista)\n"
      ],
      "execution_count": 0,
      "outputs": [
        {
          "output_type": "stream",
          "text": [
            "[1, 2, 3, 4, 5, 6, 7]\n",
            "4\n",
            "7\n",
            "[1, 2, 3, 4, 10, 6, 7]\n"
          ],
          "name": "stdout"
        }
      ]
    },
    {
      "cell_type": "markdown",
      "metadata": {
        "id": "EErE_TwN0mg0",
        "colab_type": "text"
      },
      "source": [
        "Agregando, removiendo más datos"
      ]
    },
    {
      "cell_type": "code",
      "metadata": {
        "id": "28jG_nDT0rjS",
        "colab_type": "code",
        "outputId": "057011d7-a579-4bf4-8e4c-ce1343345e98",
        "colab": {
          "base_uri": "https://localhost:8080/",
          "height": 52
        }
      },
      "source": [
        "lista2=[1,2,3,4]\n",
        "lista2.append(-5)\n",
        "print(lista2)\n",
        "#del lista2[-1]\n",
        "print(lista2)\n",
        "lista2.remove(1)"
      ],
      "execution_count": 0,
      "outputs": [
        {
          "output_type": "stream",
          "text": [
            "[1, 2, 3, 4, -5]\n",
            "[1, 2, 3, 4, -5]\n"
          ],
          "name": "stdout"
        }
      ]
    },
    {
      "cell_type": "markdown",
      "metadata": {
        "id": "vm-XjNmW2Gvx",
        "colab_type": "text"
      },
      "source": [
        "Funciones"
      ]
    },
    {
      "cell_type": "code",
      "metadata": {
        "id": "6_zc6sZe2KVV",
        "colab_type": "code",
        "colab": {}
      },
      "source": [
        "def suma(a,b):\n",
        "  s=a+b\n",
        "  return s"
      ],
      "execution_count": 0,
      "outputs": []
    },
    {
      "cell_type": "markdown",
      "metadata": {
        "id": "xH4wywn-3pWi",
        "colab_type": "text"
      },
      "source": [
        "Llammar metodos"
      ]
    },
    {
      "cell_type": "code",
      "metadata": {
        "id": "AOLEggHM3sWA",
        "colab_type": "code",
        "outputId": "f2255640-3f9b-4270-ca4d-8c88eb5ad7c0",
        "colab": {
          "base_uri": "https://localhost:8080/",
          "height": 52
        }
      },
      "source": [
        "suma(20,50)"
      ],
      "execution_count": 0,
      "outputs": [
        {
          "output_type": "stream",
          "text": [
            "70\n"
          ],
          "name": "stdout"
        },
        {
          "output_type": "execute_result",
          "data": {
            "text/plain": [
              "70"
            ]
          },
          "metadata": {
            "tags": []
          },
          "execution_count": 62
        }
      ]
    },
    {
      "cell_type": "markdown",
      "metadata": {
        "id": "SuBsQBoh35fY",
        "colab_type": "text"
      },
      "source": [
        "Perimetro de un cuadrado"
      ]
    },
    {
      "cell_type": "code",
      "metadata": {
        "id": "1IfjXgG43710",
        "colab_type": "code",
        "outputId": "54be41c2-c940-424a-9186-35f3ff507464",
        "colab": {
          "base_uri": "https://localhost:8080/",
          "height": 208
        }
      },
      "source": [
        "l=5\n",
        "def pCuadrado(l):\n",
        "  p=l*4\n",
        "  return p\n",
        "\n",
        "def aCuadrado(l):\n",
        "    a=l*l\n",
        "    return a\n",
        "\n",
        "def datosCuadrado(p,a):\n",
        "  lista=[p,a]\n",
        "  print(\"los datos del cuadrado son: \\nPerimetro =\", lista[0],\"m\")\n",
        "  print(\"área =\" , lista[1], \"m²\\n\")\n",
        "  return lista\n",
        "\n",
        "l2=10\n",
        "def pRectangulo(l,l2):\n",
        "  p=l*2+l2*2\n",
        "  return p\n",
        "\n",
        "def aRectangulo(l,l2):\n",
        "    a=l*l2\n",
        "    return a\n",
        "\n",
        "def datosRectangulo(pr,ar):\n",
        "  lista=[pr,ar]\n",
        "  print(\"\\n\\nlos datos del rectangulo son: \\nPerimetro =\", lista[0],\"m\")\n",
        "  print(\"área =\" , lista[1], \"m²\\n\")\n",
        "  return lista\n",
        "\n",
        "datosCuadrado(pCuadrado(l),aCuadrado(l))\n",
        "datosRectangulo(pRectangulo(l,l2),aRectangulo(l,l2))"
      ],
      "execution_count": 0,
      "outputs": [
        {
          "output_type": "stream",
          "text": [
            "los datos del cuadrado son: \n",
            "Perimetro = 20 m\n",
            "área = 25 m²\n",
            "\n",
            "\n",
            "\n",
            "los datos del rectangulo son: \n",
            "Perimetro = 30 m\n",
            "área = 50 m²\n",
            "\n"
          ],
          "name": "stdout"
        },
        {
          "output_type": "execute_result",
          "data": {
            "text/plain": [
              "[30, 50]"
            ]
          },
          "metadata": {
            "tags": []
          },
          "execution_count": 92
        }
      ]
    },
    {
      "cell_type": "markdown",
      "metadata": {
        "id": "4dnZFEpgBv4T",
        "colab_type": "text"
      },
      "source": [
        "palabras reservadas\n",
        "\n",
        "Pass  ignora este metodo\n",
        "Class  clase\n",
        "\"_ _ init _ _\" Constructor de java\n",
        "_ _ msin _ _ = \"_ _ main _ _\" es el constructor\n",
        "\n"
      ]
    }
  ]
}